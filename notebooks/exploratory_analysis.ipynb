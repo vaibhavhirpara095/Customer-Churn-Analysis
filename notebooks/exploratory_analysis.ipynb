{
 "cells": [
  {
   "cell_type": "markdown",
   "metadata": {},
   "source": [
    "# Customer Churn Analysis - Exploratory Data Analysis\n",
    "\n",
    "This notebook performs comprehensive exploratory data analysis on customer churn data.\n",
    "\n",
    "## Table of Contents\n",
    "1. Data Loading\n",
    "2. Data Overview\n",
    "3. Data Quality Check\n",
    "4. Univariate Analysis\n",
    "5. Bivariate Analysis\n",
    "6. Multivariate Analysis\n",
    "7. Feature Correlations\n",
    "8. Key Insights"
   ]
  },
  {
   "cell_type": "markdown",
   "metadata": {},
   "source": [
    "## 1. Import Libraries"
   ]
  },
  {
   "cell_type": "code",
   "execution_count": null,
   "metadata": {},
   "outputs": [],
   "source": [
    "import pandas as pd\n",
    "import numpy as np\n",
    "import matplotlib.pyplot as plt\n",
    "import seaborn as sns\n",
    "import sys\n",
    "import os\n",
    "\n",
    "# Add src directory to path\n",
    "sys.path.append('../src')\n",
    "sys.path.append('..')\n",
    "\n",
    "import config\n",
    "from visualization import ChurnVisualizer\n",
    "from data_preprocessing import DataPreprocessor\n",
    "from feature_engineering import FeatureEngineer\n",
    "\n",
    "# Set display options\n",
    "pd.set_option('display.max_columns', None)\n",
    "pd.set_option('display.max_rows', 100)\n",
    "\n",
    "# Set plot style\n",
    "plt.style.use('seaborn')\n",
    "sns.set_palette('husl')\n",
    "\n",
    "%matplotlib inline"
   ]
  },
  {
   "cell_type": "markdown",
   "metadata": {},
   "source": [
    "## 2. Load Data"
   ]
  },
  {
   "cell_type": "code",
   "execution_count": null,
   "metadata": {},
   "outputs": [],
   "source": [
    "# Load the dataset\n",
    "# data_path = os.path.join(config.RAW_DATA_DIR, 'customer_data.csv')\n",
    "# df = pd.read_csv(data_path)\n",
    "\n",
    "# For now, create a sample dataset\n",
    "print(\"To use this notebook:\")\n",
    "print(\"1. Place your customer data CSV file in the data/raw/ directory\")\n",
    "print(\"2. Update the data_path variable above\")\n",
    "print(\"3. Run the cells to perform analysis\")\n",
    "\n",
    "# Uncomment below to see data shape and first few rows\n",
    "# print(f\"Dataset shape: {df.shape}\")\n",
    "# df.head()"
   ]
  },
  {
   "cell_type": "markdown",
   "metadata": {},
   "source": [
    "## 3. Data Overview"
   ]
  },
  {
   "cell_type": "code",
   "execution_count": null,
   "metadata": {},
   "outputs": [],
   "source": [
    "# Display basic information about the dataset\n",
    "# df.info()\n",
    "\n",
    "# Display statistical summary\n",
    "# df.describe()"
   ]
  },
  {
   "cell_type": "markdown",
   "metadata": {},
   "source": [
    "## 4. Data Quality Check"
   ]
  },
  {
   "cell_type": "code",
   "execution_count": null,
   "metadata": {},
   "outputs": [],
   "source": [
    "# Check for missing values\n",
    "# missing_values = df.isnull().sum()\n",
    "# missing_percent = (missing_values / len(df)) * 100\n",
    "# missing_df = pd.DataFrame({\n",
    "#     'Missing_Count': missing_values,\n",
    "#     'Missing_Percent': missing_percent\n",
    "# })\n",
    "# missing_df[missing_df['Missing_Count'] > 0].sort_values('Missing_Count', ascending=False)"
   ]
  },
  {
   "cell_type": "markdown",
   "metadata": {},
   "source": [
    "## 5. Churn Distribution"
   ]
  },
  {
   "cell_type": "code",
   "execution_count": null,
   "metadata": {},
   "outputs": [],
   "source": [
    "# Visualize churn distribution\n",
    "# visualizer = ChurnVisualizer()\n",
    "# visualizer.plot_churn_distribution(df['Churn'])"
   ]
  },
  {
   "cell_type": "markdown",
   "metadata": {},
   "source": [
    "## 6. Feature Analysis"
   ]
  },
  {
   "cell_type": "code",
   "execution_count": null,
   "metadata": {},
   "outputs": [],
   "source": [
    "# Analyze numerical features\n",
    "# numerical_features = df.select_dtypes(include=[np.number]).columns.tolist()\n",
    "# print(f\"Numerical features: {numerical_features}\")\n",
    "\n",
    "# Analyze categorical features\n",
    "# categorical_features = df.select_dtypes(include=['object']).columns.tolist()\n",
    "# print(f\"Categorical features: {categorical_features}\")"
   ]
  },
  {
   "cell_type": "markdown",
   "metadata": {},
   "source": [
    "## 7. Correlation Analysis"
   ]
  },
  {
   "cell_type": "code",
   "execution_count": null,
   "metadata": {},
   "outputs": [],
   "source": [
    "# Plot correlation matrix\n",
    "# numerical_df = df.select_dtypes(include=[np.number])\n",
    "# visualizer.plot_correlation_matrix(numerical_df)"
   ]
  },
  {
   "cell_type": "markdown",
   "metadata": {},
   "source": [
    "## 8. Key Insights\n",
    "\n",
    "Based on the exploratory analysis, document key findings here:\n",
    "\n",
    "1. **Churn Rate**: [To be filled after analysis]\n",
    "2. **Key Features**: [To be filled after analysis]\n",
    "3. **Data Quality Issues**: [To be filled after analysis]\n",
    "4. **Recommendations**: [To be filled after analysis]"
   ]
  },
  {
   "cell_type": "markdown",
   "metadata": {},
   "source": [
    "## Next Steps\n",
    "\n",
    "1. Data preprocessing and cleaning\n",
    "2. Feature engineering\n",
    "3. Model training and evaluation\n",
    "4. Model deployment"
   ]
  }
 ],
 "metadata": {
  "kernelspec": {
   "display_name": "Python 3",
   "language": "python",
   "name": "python3"
  },
  "language_info": {
   "codemirror_mode": {
    "name": "ipython",
    "version": 3
   },
   "file_extension": ".py",
   "mimetype": "text/x-python",
   "name": "python",
   "nbconvert_exporter": "python",
   "pygments_lexer": "ipython3",
   "version": "3.8.0"
  }
 },
 "nbformat": 4,
 "nbformat_minor": 4
}
